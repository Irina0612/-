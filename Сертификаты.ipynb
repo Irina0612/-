{
  "nbformat": 4,
  "nbformat_minor": 0,
  "metadata": {
    "colab": {
      "name": "Сертификаты.ipynb",
      "provenance": [],
      "collapsed_sections": []
    },
    "kernelspec": {
      "name": "python3",
      "display_name": "Python 3"
    },
    "language_info": {
      "name": "python"
    }
  },
  "cells": [
    {
      "cell_type": "markdown",
      "metadata": {
        "id": "Vki9PRltiBqI"
      },
      "source": [
        "\n",
        "Папка с сертификатами: \n",
        "https://drive.google.com/drive/folders/1sQ4xSO9QSe3_sFWdyP_rAZDtAitXYrM7?usp=sharing\n",
        "\n"
      ]
    }
  ]
}