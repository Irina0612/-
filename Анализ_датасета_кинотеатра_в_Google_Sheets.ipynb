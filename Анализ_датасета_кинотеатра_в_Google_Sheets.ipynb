{
  "nbformat": 4,
  "nbformat_minor": 0,
  "metadata": {
    "colab": {
      "name": "Анализ датасета кинотеатра в  Google Sheets",
      "provenance": [],
      "collapsed_sections": [],
      "authorship_tag": "ABX9TyOZoPGEhMUp3K+MCkGD3bPC",
      "include_colab_link": true
    },
    "kernelspec": {
      "name": "python3",
      "display_name": "Python 3"
    },
    "language_info": {
      "name": "python"
    }
  },
  "cells": [
    {
      "cell_type": "markdown",
      "metadata": {
        "id": "view-in-github",
        "colab_type": "text"
      },
      "source": [
        "<a href=\"https://colab.research.google.com/github/Irina0612/Portfolio/blob/main/%D0%90%D0%BD%D0%B0%D0%BB%D0%B8%D0%B7_%D0%B4%D0%B0%D1%82%D0%B0%D1%81%D0%B5%D1%82%D0%B0_%D0%BA%D0%B8%D0%BD%D0%BE%D1%82%D0%B5%D0%B0%D1%82%D1%80%D0%B0_%D0%B2_Google_Sheets.ipynb\" target=\"_parent\"><img src=\"https://colab.research.google.com/assets/colab-badge.svg\" alt=\"Open In Colab\"/></a>"
      ]
    },
    {
      "cell_type": "markdown",
      "metadata": {
        "id": "810iK8Yof44T"
      },
      "source": [
        ""
      ]
    },
    {
      "cell_type": "markdown",
      "metadata": {
        "id": "HiycOMIUeJJZ"
      },
      "source": [
        "###  Анализ датасета кинотеатра в  Google Sheets\n",
        "В качестве датасета используем данные условного онлайн-кинотеатра. У нас есть информация о пользователях, фильмах, а так же оценках, которые пользователи поставили тому или иному фильму.\n",
        "\n",
        "Датасет доступен тут - https://grouplens.org/datasets/movielens/100k/\n",
        "\n",
        "**Задание:**\n",
        "Представить общую информацию по фильмам, пользователям, а так же построить top активных пользователей за последние 3 месяца для мотивации.\n",
        "\n",
        "**Инструменты:**\n",
        "* Google-таблицы (Сводные таблицы, ВПР, аналитические инструменты, диаграммы)\n",
        "\n",
        "**Результат:**\n",
        "https://docs.google.com/spreadsheets/d/1XHSKZzepYzf0rOI0VTzfrqDv_8D6dcNTqczN3wgfIxU/edit?usp=sharing\n",
        "\n",
        "* Построена гистограмма пользователей по возрасту\n",
        "* Построено 2 графика, показывающих распределение людей по профессиям в зависимости от их пола\n",
        "* Построено 2 графика количества фильмов по жанрам и по годам\n",
        "* Построен график количества оценок по месяцам и годам\n",
        "* Выявлено top-5 самых активных пользователей за последние 3 месяца\n",
        "\n"
      ]
    }
  ]
}
