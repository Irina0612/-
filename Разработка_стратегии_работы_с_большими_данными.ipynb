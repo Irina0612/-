{
  "nbformat": 4,
  "nbformat_minor": 0,
  "metadata": {
    "colab": {
      "name": "Разработка стратегии работы с большими данными",
      "provenance": [],
      "collapsed_sections": [],
      "authorship_tag": "ABX9TyNpO1L4rohaPUDskJJx6SZQ",
      "include_colab_link": true
    },
    "kernelspec": {
      "name": "python3",
      "display_name": "Python 3"
    },
    "language_info": {
      "name": "python"
    }
  },
  "cells": [
    {
      "cell_type": "markdown",
      "metadata": {
        "id": "view-in-github",
        "colab_type": "text"
      },
      "source": [
        "<a href=\"https://colab.research.google.com/github/Irina0612/Portfolio/blob/main/%D0%A0%D0%B0%D0%B7%D1%80%D0%B0%D0%B1%D0%BE%D1%82%D0%BA%D0%B0_%D1%81%D1%82%D1%80%D0%B0%D1%82%D0%B5%D0%B3%D0%B8%D0%B8_%D1%80%D0%B0%D0%B1%D0%BE%D1%82%D1%8B_%D1%81_%D0%B1%D0%BE%D0%BB%D1%8C%D1%88%D0%B8%D0%BC%D0%B8_%D0%B4%D0%B0%D0%BD%D0%BD%D1%8B%D0%BC%D0%B8.ipynb\" target=\"_parent\"><img src=\"https://colab.research.google.com/assets/colab-badge.svg\" alt=\"Open In Colab\"/></a>"
      ]
    },
    {
      "cell_type": "markdown",
      "metadata": {
        "id": "810iK8Yof44T"
      },
      "source": [
        ""
      ]
    },
    {
      "cell_type": "markdown",
      "metadata": {
        "id": "HiycOMIUeJJZ"
      },
      "source": [
        "###  Разработка стратегии работы с большими данными\n",
        "\n",
        "**Задание:**\n",
        "Разработать стратегию внедрения хранилища данных и работы с большими данными в онлайн-кинотеатре.\n",
        "\n",
        "\n",
        "**Результат:**\n",
        "https://docs.google.com/document/d/1keCi6Alf--S_rN6olvGC2vnWAD1VaHMUGKRiFtMrAlA/edit?usp=sharing\n",
        "\n",
        "* Описаны основные бизнес-отчеты, которые мы хотим видеть по нашему бизнесу\n",
        "* Описаны основные имеющиеся данные и источники их поступления\n",
        "* Описаны основные сущности в хранилище данных (схема звезда) и процесс заливки данных\n",
        "* Описаны основные проверки на качество данных (10 штук), которыми будем пользоваться при заливке\n",
        "* Придуман Data-проект, который должен улучшить показатели Вашего бизнеса и расписан по Crisp-DM\n",
        "* Описаны требуемые роли в команде по работе с данными на этапах 4 и 5\n",
        "\n",
        "\n",
        "\n"
      ]
    }
  ]
}