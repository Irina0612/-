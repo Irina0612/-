{
  "nbformat": 4,
  "nbformat_minor": 0,
  "metadata": {
    "colab": {
      "name": "Система аналитики для учета и планирования отпусков",
      "provenance": [],
      "authorship_tag": "ABX9TyMRj1qtVTzTiuXVPP74+Kuf",
      "include_colab_link": true
    },
    "kernelspec": {
      "name": "python3",
      "display_name": "Python 3"
    },
    "language_info": {
      "name": "python"
    }
  },
  "cells": [
    {
      "cell_type": "markdown",
      "metadata": {
        "id": "view-in-github",
        "colab_type": "text"
      },
      "source": [
        "<a href=\"https://colab.research.google.com/github/Irina0612/Portfolio/blob/main/%D0%A1%D0%B8%D1%81%D1%82%D0%B5%D0%BC%D0%B0_%D0%B0%D0%BD%D0%B0%D0%BB%D0%B8%D1%82%D0%B8%D0%BA%D0%B8_%D0%B4%D0%BB%D1%8F_%D1%83%D1%87%D0%B5%D1%82%D0%B0_%D0%B8_%D0%BF%D0%BB%D0%B0%D0%BD%D0%B8%D1%80%D0%BE%D0%B2%D0%B0%D0%BD%D0%B8%D1%8F_%D0%BE%D1%82%D0%BF%D1%83%D1%81%D0%BA%D0%BE%D0%B2.ipynb\" target=\"_parent\"><img src=\"https://colab.research.google.com/assets/colab-badge.svg\" alt=\"Open In Colab\"/></a>"
      ]
    },
    {
      "cell_type": "markdown",
      "metadata": {
        "id": "810iK8Yof44T"
      },
      "source": [
        ""
      ]
    },
    {
      "cell_type": "markdown",
      "metadata": {
        "id": "HiycOMIUeJJZ"
      },
      "source": [
        "###  Итоговая работа\n",
        "##### по основам аналитики и аналитического мышления\n",
        "\n",
        "**Задание:**\n",
        "[Разработать систему аналитики для учета и планирования отпусков\n",
        "](https://docs.google.com/document/d/1wFXNodCat-hcRiNGVhqNsVO3-s7CYMVqjA7uqYTq-tI/edit?usp=sharing)\n",
        "\n",
        "**Инструменты:**\n",
        "* Google-форма\n",
        "* Google-таблицы\n",
        "* Google Data Studio\n",
        "* Google Colaboratory\n",
        "\n",
        "**Результат:**\n",
        "* Создана [таблица](https://docs.google.com/spreadsheets/d/1uSV4jvq8IritgtN0vFQp8hbkYgF8mCWfOhkV0bTwlp4/edit?usp=sharing) и [Google-форма](https://docs.google.com/forms/d/1_cy3_vaRHZ69dqPdGuKg_L2GiY7VXSvBWT6JGv1GLuo/edit?usp=sharing)\n",
        "* Разработан дашборд\n",
        "[Ссылка на дашборд](https://datastudio.google.com/reporting/b05cb0a6-0a65-40b9-ae2a-8a7e800f321c)\n",
        "* Рассчитана корреляция между ценой отпуска за день и оценкой за отзыв.\n",
        "[Ссылка](https://docs.google.com/spreadsheets/d/1uSV4jvq8IritgtN0vFQp8hbkYgF8mCWfOhkV0bTwlp4/edit?usp=sharing)\n",
        "* Проверена статистическая гипотезу, что отпуска хорошо планируюутся\n",
        "[Ссылка](https://docs.google.com/spreadsheets/d/1uSV4jvq8IritgtN0vFQp8hbkYgF8mCWfOhkV0bTwlp4/edit?usp=sharing)\n",
        "* При помощи Python и SQL создан справочник городов\n",
        "* Расчитана средняя численность населения в городах в которых отдыхали\n",
        "[Ссылка на Google Colaboratory](https://colab.research.google.com/drive/1InUK9Nqfvx2qww1widNwdoB6dvUpCJr6?usp=sharing)\n",
        "\n"
      ]
    }
  ]
}
