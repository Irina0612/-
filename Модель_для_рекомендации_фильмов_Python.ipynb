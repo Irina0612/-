{
  "nbformat": 4,
  "nbformat_minor": 0,
  "metadata": {
    "colab": {
      "name": "Модель для рекомендации фильмов Python",
      "provenance": [],
      "collapsed_sections": [],
      "authorship_tag": "ABX9TyNnvaorou2HxOQA3I2XO9SM",
      "include_colab_link": true
    },
    "kernelspec": {
      "name": "python3",
      "display_name": "Python 3"
    },
    "language_info": {
      "name": "python"
    }
  },
  "cells": [
    {
      "cell_type": "markdown",
      "metadata": {
        "id": "view-in-github",
        "colab_type": "text"
      },
      "source": [
        "<a href=\"https://colab.research.google.com/github/Irina0612/Portfolio/blob/main/%D0%9C%D0%BE%D0%B4%D0%B5%D0%BB%D1%8C_%D0%B4%D0%BB%D1%8F_%D1%80%D0%B5%D0%BA%D0%BE%D0%BC%D0%B5%D0%BD%D0%B4%D0%B0%D1%86%D0%B8%D0%B8_%D1%84%D0%B8%D0%BB%D1%8C%D0%BC%D0%BE%D0%B2_Python.ipynb\" target=\"_parent\"><img src=\"https://colab.research.google.com/assets/colab-badge.svg\" alt=\"Open In Colab\"/></a>"
      ]
    },
    {
      "cell_type": "markdown",
      "metadata": {
        "id": "810iK8Yof44T"
      },
      "source": [
        ""
      ]
    },
    {
      "cell_type": "markdown",
      "metadata": {
        "id": "HiycOMIUeJJZ"
      },
      "source": [
        "###  Модель для рекомендации фильмов Python\n",
        "В качестве датасета используем данные условного онлайн-кинотеатра. У нас есть информация о пользователях, фильмах, а так же оценках, которые пользователи поставили тому или иному фильму.\n",
        "\n",
        "Датасет доступен тут - https://grouplens.org/datasets/movielens/100k/\n",
        "\n",
        "**Задание:**\n",
        "Научится предсказывать оценку фильма пользователем.\n",
        "\n",
        "**Инструменты:**\n",
        "* Python средства Pandas\n",
        "\n",
        "**Результат:**\n",
        "https://colab.research.google.com/drive/1dgsGFfomg4iQ3EPhePW5AI0p9WAn5aak?usp=sharing\n",
        "\n",
        "\n",
        "* Создана и оценена модель линейной регрессии\n",
        "\n"
      ]
    }
  ]
}